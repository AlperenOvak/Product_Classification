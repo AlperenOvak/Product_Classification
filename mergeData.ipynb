{
 "cells": [
  {
   "cell_type": "code",
   "execution_count": 26,
   "metadata": {},
   "outputs": [],
   "source": [
    "# Import necessary libraries\n",
    "#pip install pandas\n",
    "# Importing necessary libraries\n",
    "import pandas as pd\n",
    "import matplotlib.pyplot as plt\n",
    "import seaborn as sns\n",
    "\n",
    "# Setting seaborn style for better visuals\n",
    "sns.set(style=\"whitegrid\")\n"
   ]
  },
  {
   "cell_type": "code",
   "execution_count": 21,
   "metadata": {},
   "outputs": [
    {
     "name": "stdout",
     "output_type": "stream",
     "text": [
      "1800\n"
     ]
    }
   ],
   "source": [
    "file_path = 'Product_Explanations.txt'\n",
    "\n",
    "# Initialize lists to store the parsed data\n",
    "product_ids = []\n",
    "descriptions = []\n",
    "\n",
    "with open('Product_Explanation.txt', 'r') as file:\n",
    "    for line in file:  # Adjust the range to read more lines if needed\n",
    "        #print(line)\n",
    "        product_id, description = line.strip().split(';', 1)\n",
    "        #print(product_id ,\"+\", description)\n",
    "        product_ids.append(product_id)\n",
    "        descriptions.append(description)\n",
    "print(len(product_ids))\n",
    "# Open and read the file"
   ]
  },
  {
   "cell_type": "code",
   "execution_count": 22,
   "metadata": {},
   "outputs": [
    {
     "name": "stdout",
     "output_type": "stream",
     "text": [
      "1800\n"
     ]
    }
   ],
   "source": [
    "file_path = 'Product_Categories.txt'\n",
    "\n",
    "# Initialize lists to store the parsed data\n",
    "categories = []\n",
    "turkish_lower_mapping = str.maketrans('İI', 'ii')\n",
    "\n",
    "with open(file_path, 'r') as file:\n",
    "    for line in file:  # Adjust the range to read more lines if needed\n",
    "        #print(line)\n",
    "        _, category = line.strip().split(';', 1)\n",
    "        category = category.strip()\n",
    "        if '>' in category:\n",
    "            category, _ = category.split('>', 1)\n",
    "        #print(category)\n",
    "        category=category.lower().translate(turkish_lower_mapping)\n",
    "        categories.append(category)\n",
    "        \n",
    "print(len(categories))"
   ]
  },
  {
   "cell_type": "code",
   "execution_count": 23,
   "metadata": {},
   "outputs": [
    {
     "name": "stdout",
     "output_type": "stream",
     "text": [
      "257\n"
     ]
    }
   ],
   "source": [
    "#find unique categories\n",
    "\n",
    "# remove empty and null category\n",
    "filtered_categories = [category for category in categories if category != '' and category != 'null']\n",
    "\n",
    "unique_categories = list(set(filtered_categories))\n",
    "print(len(unique_categories))"
   ]
  },
  {
   "cell_type": "code",
   "execution_count": 24,
   "metadata": {},
   "outputs": [],
   "source": [
    "file_path = 'unique_categories.txt'\n",
    "\n",
    "# save unique categories to the file\n",
    "with open(file_path, 'w') as file:\n",
    "    for category in unique_categories:\n",
    "        file.write(category + '\\n')"
   ]
  },
  {
   "cell_type": "code",
   "execution_count": 27,
   "metadata": {},
   "outputs": [
    {
     "name": "stdout",
     "output_type": "stream",
     "text": [
      "First few rows of the DataFrame:\n",
      "     ID        Categories                                        Description\n",
      "0   116          telekom                                                null\n",
      "1   462       bilgisayar   HP Pavilion 11-n000nt Pentium N3540 4GB 750GB ...\n",
      "2  1286  cep telefonları   STOKTAN AYNI GÜN TESLİM AYNI GÜN KARGO iPhone ...\n",
      "3  1290  cep telefonları   Ağırlık (Gr.) 115 Boyut (mm.) 132.4 x 65.5 x 6...\n",
      "4  1300   ev elektroniği   ÖZELLİKLER Ekran Ekran Boyutu 48\" Ekran Boyutu...\n"
     ]
    }
   ],
   "source": [
    "\n",
    "# Create a DataFrame from the parsed data\n",
    "data = pd.DataFrame({'ID': product_ids, 'Categories':categories ,'Description': descriptions})\n",
    "\n",
    "# Display the first few rows of the DataFrame\n",
    "print(\"First few rows of the DataFrame:\")\n",
    "print(data.head())\n",
    "\n",
    "# Save the DataFrame to a CSV file\n",
    "data.to_csv('Product_Explanations.csv', index=False, encoding='utf-8')\n"
   ]
  },
  {
   "cell_type": "markdown",
   "metadata": {},
   "source": [
    "Okey, Now we have merged category data and explanation data for products and save them into csv file."
   ]
  },
  {
   "cell_type": "code",
   "execution_count": null,
   "metadata": {},
   "outputs": [],
   "source": []
  },
  {
   "cell_type": "markdown",
   "metadata": {},
   "source": []
  }
 ],
 "metadata": {
  "kernelspec": {
   "display_name": "myenv",
   "language": "python",
   "name": "myenv"
  },
  "language_info": {
   "codemirror_mode": {
    "name": "ipython",
    "version": 3
   },
   "file_extension": ".py",
   "mimetype": "text/x-python",
   "name": "python",
   "nbconvert_exporter": "python",
   "pygments_lexer": "ipython3",
   "version": "3.10.12"
  }
 },
 "nbformat": 4,
 "nbformat_minor": 2
}
